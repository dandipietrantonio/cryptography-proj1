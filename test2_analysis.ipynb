{
 "cells": [
  {
   "cell_type": "code",
<<<<<<< HEAD
   "execution_count": 2,
=======
   "execution_count": 3,
>>>>>>> Basic frequency mapping solution for test 2
   "metadata": {},
   "outputs": [],
   "source": [
    "import matplotlib.pyplot as plt"
   ]
  },
  {
   "cell_type": "code",
<<<<<<< HEAD
   "execution_count": 3,
=======
   "execution_count": 4,
>>>>>>> Basic frequency mapping solution for test 2
   "metadata": {},
   "outputs": [],
   "source": [
    "vocabularies = []"
   ]
  },
  {
   "cell_type": "code",
<<<<<<< HEAD
   "execution_count": 4,
=======
   "execution_count": 5,
>>>>>>> Basic frequency mapping solution for test 2
   "metadata": {},
   "outputs": [],
   "source": [
    "with open('dictionary_2.txt') as f:\n",
    "    lines = f.readlines()\n",
    "    for line in lines:\n",
    "        line = line.strip()\n",
    "        if len(line) == 0:\n",
    "            continue\n",
    "        if line[:4] == \"Test\":\n",
    "            continue\n",
    "        vocabularies.append(line)"
   ]
  },
  {
   "cell_type": "code",
<<<<<<< HEAD
   "execution_count": 5,
   "metadata": {},
   "outputs": [
    {
     "data": {
      "text/plain": [
       "40"
      ]
     },
     "execution_count": 5,
     "metadata": {},
     "output_type": "execute_result"
=======
   "execution_count": 6,
   "metadata": {},
   "outputs": [
    {
     "name": "stdout",
     "output_type": "stream",
     "text": [
      "['lacrosses', 'protectional', 'blistered', 'leaseback', 'assurers', 'frizzlers', 'submerse', 'rankness', 'moonset', 'farcer', 'brickyard', 'stolonic', 'trimmings', 'glottic', 'rotates', 'twirlier', 'stuffer', 'publishable', 'invalided', 'harshens', 'tortoni', 'unlikely', 'alefs', 'gladding', 'favouring', 'particulate', 'baldpates', 'changeover', 'lingua', 'proctological', 'freaking', 'outflanked', 'amulets', 'imagist', 'hyped', 'pilfers', 'overachiever', 'clarence', 'outdates', 'smeltery']\n"
     ]
>>>>>>> Basic frequency mapping solution for test 2
    }
   ],
   "source": [
    "len(vocabularies)\n",
    "print(vocabularies)"
   ]
  },
  {
   "cell_type": "code",
<<<<<<< HEAD
   "execution_count": 6,
=======
   "execution_count": 7,
>>>>>>> Basic frequency mapping solution for test 2
   "metadata": {},
   "outputs": [],
   "source": [
    "aggregated_line = \" \".join(vocabularies)"
   ]
  },
  {
   "cell_type": "code",
<<<<<<< HEAD
   "execution_count": 7,
=======
   "execution_count": 8,
>>>>>>> Basic frequency mapping solution for test 2
   "metadata": {},
   "outputs": [],
   "source": [
    "def count_char(text):\n",
    "    keys = [chr(ord('a')+i) for i in range(26)]\n",
    "    keys.insert(0, ' ')\n",
    "    distribution = dict(zip(keys,[0 for _ in range(27)]))\n",
    "    for c in text:\n",
    "        distribution[c] += 1\n",
    "    return distribution"
   ]
  },
  {
   "cell_type": "code",
<<<<<<< HEAD
   "execution_count": 8,
=======
   "execution_count": 14,
>>>>>>> Basic frequency mapping solution for test 2
   "metadata": {},
   "outputs": [],
   "source": [
    "def show_distribution(text):\n",
    "    distribution = count_char(text)\n",
    "    l = [(k, distribution[k]) for k in distribution.keys()]\n",
    "    l.sort(key= lambda x: x[1])\n",
    "    print(l)\n",
    "    plt.figure(figsize=(9,7))\n",
    "    plt.bar(distribution.keys(), distribution.values())\n",
    "    plt.show()"
   ]
  },
  {
   "cell_type": "markdown",
   "metadata": {},
   "source": [
    "# Distribution of aggregated Line made from all vocabularies"
   ]
  },
  {
   "cell_type": "code",
<<<<<<< HEAD
   "execution_count": 9,
=======
   "execution_count": 15,
>>>>>>> Basic frequency mapping solution for test 2
   "metadata": {},
   "outputs": [
    {
     "name": "stdout",
     "output_type": "stream",
     "text": [
      "None\n"
     ]
    },
    {
     "data": {
      "image/png": "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",
      "text/plain": [
       "<Figure size 648x504 with 1 Axes>"
      ]
     },
     "metadata": {
      "needs_background": "light"
     },
     "output_type": "display_data"
    }
   ],
   "source": [
    "show_distribution(aggregated_line)"
   ]
  },
  {
   "cell_type": "code",
   "execution_count": 12,
   "metadata": {},
   "outputs": [],
   "source": [
    "average_vocabulary_length = sum([len(s) for s in vocabularies]) / len(vocabularies)"
   ]
  },
  {
   "cell_type": "code",
   "execution_count": 13,
   "metadata": {},
   "outputs": [
    {
     "data": {
      "text/plain": [
       "8.35"
      ]
     },
     "execution_count": 13,
     "metadata": {},
     "output_type": "execute_result"
    }
   ],
   "source": [
    "average_vocabulary_length"
   ]
  }
 ],
 "metadata": {
  "interpreter": {
   "hash": "2c265c5d3b73210de487199daca6749a804f0c51428f3cff14e95c42741593c4"
  },
  "kernelspec": {
   "display_name": "Python 3.7.7 ('base')",
   "language": "python",
   "name": "python3"
  },
  "language_info": {
   "codemirror_mode": {
    "name": "ipython",
    "version": 3
   },
   "file_extension": ".py",
   "mimetype": "text/x-python",
   "name": "python",
   "nbconvert_exporter": "python",
   "pygments_lexer": "ipython3",
   "version": "3.8.10"
  },
  "orig_nbformat": 4
 },
 "nbformat": 4,
 "nbformat_minor": 2
}
